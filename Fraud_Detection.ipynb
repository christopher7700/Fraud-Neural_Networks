{
 "cells": [
  {
   "attachments": {},
   "cell_type": "markdown",
   "metadata": {},
   "source": [
    "# Fraudulent Transaction Detection with Neural Networks"
   ]
  },
  {
   "cell_type": "code",
   "execution_count": 1,
   "metadata": {},
   "outputs": [],
   "source": [
    "#Import Libraires\n",
    "import pandas as pd\n",
    "import numpy as np\n",
    "import matplotlib.pyplot as plt\n",
    "from sklearn.feature_selection import SelectKBest, chi2 \n",
    "from sklearn.model_selection import train_test_split\n",
    "\n",
    "from sklearn.preprocessing import StandardScaler\n",
    "from dataclasses import replace\n",
    "from sklearn import preprocessing\n",
    "import tensorflow as tf\n",
    "from tensorflow import keras\n",
    "from tensorflow.keras import layers"
   ]
  },
  {
   "cell_type": "code",
   "execution_count": 2,
   "metadata": {},
   "outputs": [],
   "source": [
    "#Read CSV file to access data\n",
    "DF = pd.read_csv('Final Transactions.csv')"
   ]
  },
  {
   "attachments": {},
   "cell_type": "markdown",
   "metadata": {},
   "source": [
    "# Data Engeneering"
   ]
  },
  {
   "attachments": {},
   "cell_type": "markdown",
   "metadata": {},
   "source": [
    "### Data Cleaning  "
   ]
  },
  {
   "cell_type": "code",
   "execution_count": 3,
   "metadata": {},
   "outputs": [
    {
     "name": "stdout",
     "output_type": "stream",
     "text": [
      "<class 'pandas.core.frame.DataFrame'>\n",
      "RangeIndex: 1754155 entries, 0 to 1754154\n",
      "Data columns (total 10 columns):\n",
      " #   Column             Dtype  \n",
      "---  ------             -----  \n",
      " 0   Unnamed: 0         int64  \n",
      " 1   TRANSACTION_ID     int64  \n",
      " 2   TX_DATETIME        object \n",
      " 3   CUSTOMER_ID        int64  \n",
      " 4   TERMINAL_ID        int64  \n",
      " 5   TX_AMOUNT          float64\n",
      " 6   TX_TIME_SECONDS    int64  \n",
      " 7   TX_TIME_DAYS       int64  \n",
      " 8   TX_FRAUD           int64  \n",
      " 9   TX_FRAUD_SCENARIO  int64  \n",
      "dtypes: float64(1), int64(8), object(1)\n",
      "memory usage: 133.8+ MB\n"
     ]
    }
   ],
   "source": [
    "#Get dtype info from df\n",
    "DF.info()"
   ]
  },
  {
   "attachments": {},
   "cell_type": "markdown",
   "metadata": {},
   "source": [
    "Change DataType for TX_DATETIME"
   ]
  },
  {
   "cell_type": "code",
   "execution_count": 4,
   "metadata": {},
   "outputs": [
    {
     "name": "stdout",
     "output_type": "stream",
     "text": [
      "0   2023-01-01 00:00:31\n",
      "1   2023-01-01 00:02:10\n",
      "2   2023-01-01 00:07:56\n",
      "Name: TX_DATETIME, dtype: datetime64[ns]\n"
     ]
    }
   ],
   "source": [
    "#Change Datatype of column\n",
    "DF.TX_DATETIME= pd.to_datetime(DF.TX_DATETIME)\n",
    "print(DF.TX_DATETIME.head(3))"
   ]
  },
  {
   "attachments": {},
   "cell_type": "markdown",
   "metadata": {},
   "source": [
    "### Feature Engeneering\n",
    "\n"
   ]
  },
  {
   "cell_type": "code",
   "execution_count": 6,
   "metadata": {},
   "outputs": [],
   "source": [
    "# FUNCTION DROPS COLUMNS FROM DF \n",
    "\n",
    "    ## *col represents a variable number of arguments\n",
    "def drop_from_df(dataframe,*col):\n",
    "    ## *col arguments return tuples therefore list(col) converts the items into a list.\n",
    "    dataframe = dataframe.drop(columns= list(col))\n",
    "    return dataframe\n",
    "\n",
    "# ADJUST DF TO DROPPED COLUMNS\n",
    "DF = drop_from_df(DF,'Unnamed: 0','CUSTOMER_ID','TRANSACTION_ID','TX_FRAUD_SCENARIO')"
   ]
  },
  {
   "attachments": {},
   "cell_type": "markdown",
   "metadata": {},
   "source": [
    "Filter column for outliers"
   ]
  },
  {
   "cell_type": "code",
   "execution_count": 7,
   "metadata": {},
   "outputs": [
    {
     "data": {
      "text/html": [
       "<div>\n",
       "<style scoped>\n",
       "    .dataframe tbody tr th:only-of-type {\n",
       "        vertical-align: middle;\n",
       "    }\n",
       "\n",
       "    .dataframe tbody tr th {\n",
       "        vertical-align: top;\n",
       "    }\n",
       "\n",
       "    .dataframe thead th {\n",
       "        text-align: right;\n",
       "    }\n",
       "</style>\n",
       "<table border=\"1\" class=\"dataframe\">\n",
       "  <thead>\n",
       "    <tr style=\"text-align: right;\">\n",
       "      <th></th>\n",
       "      <th>TERMINAL_ID</th>\n",
       "      <th>TX_AMOUNT</th>\n",
       "      <th>TX_TIME_SECONDS</th>\n",
       "      <th>TX_TIME_DAYS</th>\n",
       "      <th>TX_FRAUD</th>\n",
       "    </tr>\n",
       "  </thead>\n",
       "  <tbody>\n",
       "    <tr>\n",
       "      <th>count</th>\n",
       "      <td>1.754155e+06</td>\n",
       "      <td>1.754155e+06</td>\n",
       "      <td>1.754155e+06</td>\n",
       "      <td>1.754155e+06</td>\n",
       "      <td>1.754155e+06</td>\n",
       "    </tr>\n",
       "    <tr>\n",
       "      <th>mean</th>\n",
       "      <td>4.996733e+03</td>\n",
       "      <td>5.396820e+02</td>\n",
       "      <td>7.903234e+06</td>\n",
       "      <td>9.097260e+01</td>\n",
       "      <td>1.345200e-01</td>\n",
       "    </tr>\n",
       "    <tr>\n",
       "      <th>std</th>\n",
       "      <td>2.886101e+03</td>\n",
       "      <td>1.179711e+03</td>\n",
       "      <td>4.565172e+06</td>\n",
       "      <td>5.283709e+01</td>\n",
       "      <td>3.412103e-01</td>\n",
       "    </tr>\n",
       "    <tr>\n",
       "      <th>min</th>\n",
       "      <td>0.000000e+00</td>\n",
       "      <td>0.000000e+00</td>\n",
       "      <td>3.100000e+01</td>\n",
       "      <td>0.000000e+00</td>\n",
       "      <td>0.000000e+00</td>\n",
       "    </tr>\n",
       "    <tr>\n",
       "      <th>25%</th>\n",
       "      <td>2.502000e+03</td>\n",
       "      <td>1.799500e+02</td>\n",
       "      <td>3.940846e+06</td>\n",
       "      <td>4.500000e+01</td>\n",
       "      <td>0.000000e+00</td>\n",
       "    </tr>\n",
       "    <tr>\n",
       "      <th>50%</th>\n",
       "      <td>4.994000e+03</td>\n",
       "      <td>4.217500e+02</td>\n",
       "      <td>7.902670e+06</td>\n",
       "      <td>9.100000e+01</td>\n",
       "      <td>0.000000e+00</td>\n",
       "    </tr>\n",
       "    <tr>\n",
       "      <th>75%</th>\n",
       "      <td>7.495000e+03</td>\n",
       "      <td>7.505950e+02</td>\n",
       "      <td>1.186566e+07</td>\n",
       "      <td>1.370000e+02</td>\n",
       "      <td>0.000000e+00</td>\n",
       "    </tr>\n",
       "    <tr>\n",
       "      <th>max</th>\n",
       "      <td>9.999000e+03</td>\n",
       "      <td>6.478375e+05</td>\n",
       "      <td>1.581120e+07</td>\n",
       "      <td>1.820000e+02</td>\n",
       "      <td>1.000000e+00</td>\n",
       "    </tr>\n",
       "  </tbody>\n",
       "</table>\n",
       "</div>"
      ],
      "text/plain": [
       "        TERMINAL_ID     TX_AMOUNT  TX_TIME_SECONDS  TX_TIME_DAYS      TX_FRAUD\n",
       "count  1.754155e+06  1.754155e+06     1.754155e+06  1.754155e+06  1.754155e+06\n",
       "mean   4.996733e+03  5.396820e+02     7.903234e+06  9.097260e+01  1.345200e-01\n",
       "std    2.886101e+03  1.179711e+03     4.565172e+06  5.283709e+01  3.412103e-01\n",
       "min    0.000000e+00  0.000000e+00     3.100000e+01  0.000000e+00  0.000000e+00\n",
       "25%    2.502000e+03  1.799500e+02     3.940846e+06  4.500000e+01  0.000000e+00\n",
       "50%    4.994000e+03  4.217500e+02     7.902670e+06  9.100000e+01  0.000000e+00\n",
       "75%    7.495000e+03  7.505950e+02     1.186566e+07  1.370000e+02  0.000000e+00\n",
       "max    9.999000e+03  6.478375e+05     1.581120e+07  1.820000e+02  1.000000e+00"
      ]
     },
     "execution_count": 7,
     "metadata": {},
     "output_type": "execute_result"
    }
   ],
   "source": [
    "#Decribe statistical instances from variables.\n",
    "DF.describe()"
   ]
  },
  {
   "cell_type": "code",
   "execution_count": 8,
   "metadata": {},
   "outputs": [],
   "source": [
    "#   Creating the same function without the use of Global-Variables\n",
    "def filter_rows(list,DF):\n",
    "    for i in list:\n",
    "        DF = DF[DF[i] <= DF[i].quantile(.75)]\n",
    "    DF.reset_index(drop = True , inplace=True)\n",
    "    return DF\n",
    "\n",
    "DF = filter_rows(['TX_AMOUNT'],DF)"
   ]
  },
  {
   "cell_type": "code",
   "execution_count": 9,
   "metadata": {},
   "outputs": [],
   "source": [
    "# Change the datetime format using the strftime method\n",
    "DF['Month'] = DF['TX_DATETIME'].apply(lambda x: x.strftime('%m')).astype(int)\n",
    "DF['DoW'] = DF['TX_DATETIME'].apply(lambda x: pd.Timestamp(x).dayofweek+1)\n",
    "DF['AM_PM'] = DF['TX_DATETIME'].apply(lambda x: x.strftime('%H')).astype(int)\n",
    "\n",
    "# ADJUST DF TO DROPPED COLUMNS\n",
    "DF = drop_from_df(DF,'TX_DATETIME')"
   ]
  },
  {
   "cell_type": "code",
   "execution_count": 10,
   "metadata": {},
   "outputs": [],
   "source": [
    "#changing to 1 if value is PM and 0 if AM\n",
    "DF['AM_PM'] = [1 if i >= 13 else 0 for i in DF['AM_PM']]"
   ]
  },
  {
   "cell_type": "code",
   "execution_count": 11,
   "metadata": {},
   "outputs": [
    {
     "data": {
      "text/html": [
       "<div>\n",
       "<style scoped>\n",
       "    .dataframe tbody tr th:only-of-type {\n",
       "        vertical-align: middle;\n",
       "    }\n",
       "\n",
       "    .dataframe tbody tr th {\n",
       "        vertical-align: top;\n",
       "    }\n",
       "\n",
       "    .dataframe thead th {\n",
       "        text-align: right;\n",
       "    }\n",
       "</style>\n",
       "<table border=\"1\" class=\"dataframe\">\n",
       "  <thead>\n",
       "    <tr style=\"text-align: right;\">\n",
       "      <th></th>\n",
       "      <th>TERMINAL_ID</th>\n",
       "      <th>TX_AMOUNT</th>\n",
       "      <th>TX_TIME_SECONDS</th>\n",
       "      <th>TX_TIME_DAYS</th>\n",
       "      <th>TX_FRAUD</th>\n",
       "      <th>Month</th>\n",
       "      <th>DoW</th>\n",
       "      <th>AM_PM</th>\n",
       "    </tr>\n",
       "  </thead>\n",
       "  <tbody>\n",
       "    <tr>\n",
       "      <th>0</th>\n",
       "      <td>3156</td>\n",
       "      <td>533.07</td>\n",
       "      <td>31</td>\n",
       "      <td>0</td>\n",
       "      <td>0</td>\n",
       "      <td>1</td>\n",
       "      <td>7</td>\n",
       "      <td>0</td>\n",
       "    </tr>\n",
       "    <tr>\n",
       "      <th>1</th>\n",
       "      <td>8737</td>\n",
       "      <td>620.65</td>\n",
       "      <td>569</td>\n",
       "      <td>0</td>\n",
       "      <td>0</td>\n",
       "      <td>1</td>\n",
       "      <td>7</td>\n",
       "      <td>0</td>\n",
       "    </tr>\n",
       "    <tr>\n",
       "      <th>2</th>\n",
       "      <td>9906</td>\n",
       "      <td>490.66</td>\n",
       "      <td>634</td>\n",
       "      <td>0</td>\n",
       "      <td>0</td>\n",
       "      <td>1</td>\n",
       "      <td>7</td>\n",
       "      <td>0</td>\n",
       "    </tr>\n",
       "    <tr>\n",
       "      <th>3</th>\n",
       "      <td>8803</td>\n",
       "      <td>401.17</td>\n",
       "      <td>645</td>\n",
       "      <td>0</td>\n",
       "      <td>0</td>\n",
       "      <td>1</td>\n",
       "      <td>7</td>\n",
       "      <td>0</td>\n",
       "    </tr>\n",
       "    <tr>\n",
       "      <th>4</th>\n",
       "      <td>2486</td>\n",
       "      <td>206.53</td>\n",
       "      <td>704</td>\n",
       "      <td>0</td>\n",
       "      <td>0</td>\n",
       "      <td>1</td>\n",
       "      <td>7</td>\n",
       "      <td>0</td>\n",
       "    </tr>\n",
       "  </tbody>\n",
       "</table>\n",
       "</div>"
      ],
      "text/plain": [
       "   TERMINAL_ID  TX_AMOUNT  TX_TIME_SECONDS  TX_TIME_DAYS  TX_FRAUD  Month  \\\n",
       "0         3156     533.07               31             0         0      1   \n",
       "1         8737     620.65              569             0         0      1   \n",
       "2         9906     490.66              634             0         0      1   \n",
       "3         8803     401.17              645             0         0      1   \n",
       "4         2486     206.53              704             0         0      1   \n",
       "\n",
       "   DoW  AM_PM  \n",
       "0    7      0  \n",
       "1    7      0  \n",
       "2    7      0  \n",
       "3    7      0  \n",
       "4    7      0  "
      ]
     },
     "execution_count": 11,
     "metadata": {},
     "output_type": "execute_result"
    }
   ],
   "source": [
    "DF.head()"
   ]
  },
  {
   "cell_type": "code",
   "execution_count": 12,
   "metadata": {},
   "outputs": [],
   "source": [
    "# Rearrange columns so that our Y is on the last column\n",
    "DF = DF.iloc[:,[0,1,2,3,5,6,7,4]]"
   ]
  },
  {
   "attachments": {},
   "cell_type": "markdown",
   "metadata": {},
   "source": [
    "### EDA"
   ]
  },
  {
   "cell_type": "code",
   "execution_count": 14,
   "metadata": {},
   "outputs": [
    {
     "name": "stdout",
     "output_type": "stream",
     "text": [
      "Month\n",
      "1    71116843.29\n",
      "2    64297651.04\n",
      "3    70671381.44\n",
      "4    68666660.19\n",
      "5    70811932.44\n",
      "6    68844223.55\n",
      "7     4478147.20\n",
      "Name: TX_AMOUNT, dtype: float64\n"
     ]
    },
    {
     "data": {
      "image/png": "[encoded data removed]",
      "text/plain": [
       "<Figure size 432x288 with 1 Axes>"
      ]
     },
     "metadata": {
      "needs_background": "light"
     },
     "output_type": "display_data"
    }
   ],
   "source": [
    "# Group the data by date and sum the sales for each date\n",
    "DF['TX_AMOUNT'].groupby(DF['Month']).sum().plot(kind='bar')\n",
    "print(DF['TX_AMOUNT'].groupby(DF['Month']).sum())"
   ]
  },
  {
   "cell_type": "code",
   "execution_count": 15,
   "metadata": {},
   "outputs": [
    {
     "name": "stdout",
     "output_type": "stream",
     "text": [
      "DoW\n",
      "1    59681940.65\n",
      "2    59457513.18\n",
      "3    59433587.51\n",
      "4    59665089.39\n",
      "5    59222416.90\n",
      "6    59420990.73\n",
      "7    62005300.79\n",
      "Name: TX_AMOUNT, dtype: float64\n"
     ]
    },
    {
     "data": {
      "image/png": "[encoded data removed]",
      "text/plain": [
       "<Figure size 432x288 with 1 Axes>"
      ]
     },
     "metadata": {
      "needs_background": "light"
     },
     "output_type": "display_data"
    }
   ],
   "source": [
    "# Display the sum of the transasaction amount per day of the week \n",
    "DF['TX_AMOUNT'].groupby(DF['DoW']).sum().plot(kind='line')\n",
    "print(DF['TX_AMOUNT'].groupby(DF['DoW']).sum())"
   ]
  },
  {
   "cell_type": "code",
   "execution_count": 16,
   "metadata": {},
   "outputs": [
    {
     "name": "stdout",
     "output_type": "stream",
     "text": [
      "AM_PM\n",
      "0    4050\n",
      "1    2981\n",
      "Name: TX_FRAUD, dtype: int64\n"
     ]
    },
    {
     "data": {
      "image/png": "[encoded data removed]",
      "text/plain": [
       "<Figure size 432x288 with 1 Axes>"
      ]
     },
     "metadata": {
      "needs_background": "light"
     },
     "output_type": "display_data"
    }
   ],
   "source": [
    "#Displays if Fraudulent transactions where made during AM hours (0) or PM hours (1)\n",
    "DF.TX_FRAUD[DF.TX_FRAUD == 1].groupby(DF['AM_PM']).count().plot(kind='bar')\n",
    "print(DF.TX_FRAUD[DF.TX_FRAUD == 1].groupby(DF['AM_PM']).count())"
   ]
  },
  {
   "cell_type": "code",
   "execution_count": 17,
   "metadata": {},
   "outputs": [
    {
     "data": {
      "text/plain": [
       "<AxesSubplot:xlabel='DoW'>"
      ]
     },
     "execution_count": 17,
     "metadata": {},
     "output_type": "execute_result"
    },
    {
     "data": {
      "image/png": "[encoded data removed]",
      "text/plain": [
       "<Figure size 432x288 with 1 Axes>"
      ]
     },
     "metadata": {
      "needs_background": "light"
     },
     "output_type": "display_data"
    }
   ],
   "source": [
    "#Return DF TX_FRAUD where TX_FRAUD == 1 and group by DoW plot.\n",
    "DF.TX_FRAUD[DF.TX_FRAUD == 1].groupby(DF.DoW).count().plot(kind='line')"
   ]
  },
  {
   "attachments": {},
   "cell_type": "markdown",
   "metadata": {},
   "source": [
    "#### Feature Selection "
   ]
  },
  {
   "cell_type": "code",
   "execution_count": 18,
   "metadata": {},
   "outputs": [
    {
     "data": {
      "text/html": [
       "<div>\n",
       "<style scoped>\n",
       "    .dataframe tbody tr th:only-of-type {\n",
       "        vertical-align: middle;\n",
       "    }\n",
       "\n",
       "    .dataframe tbody tr th {\n",
       "        vertical-align: top;\n",
       "    }\n",
       "\n",
       "    .dataframe thead th {\n",
       "        text-align: right;\n",
       "    }\n",
       "</style>\n",
       "<table border=\"1\" class=\"dataframe\">\n",
       "  <thead>\n",
       "    <tr style=\"text-align: right;\">\n",
       "      <th></th>\n",
       "      <th>TERMINAL_ID</th>\n",
       "      <th>TX_AMOUNT</th>\n",
       "      <th>TX_TIME_SECONDS</th>\n",
       "      <th>TX_TIME_DAYS</th>\n",
       "      <th>Month</th>\n",
       "      <th>DoW</th>\n",
       "      <th>AM_PM</th>\n",
       "      <th>TX_FRAUD</th>\n",
       "    </tr>\n",
       "  </thead>\n",
       "  <tbody>\n",
       "    <tr>\n",
       "      <th>TERMINAL_ID</th>\n",
       "      <td>1.000000</td>\n",
       "      <td>0.001447</td>\n",
       "      <td>0.000638</td>\n",
       "      <td>0.000635</td>\n",
       "      <td>0.000811</td>\n",
       "      <td>0.000243</td>\n",
       "      <td>0.001091</td>\n",
       "      <td>0.007142</td>\n",
       "    </tr>\n",
       "    <tr>\n",
       "      <th>TX_AMOUNT</th>\n",
       "      <td>0.001447</td>\n",
       "      <td>1.000000</td>\n",
       "      <td>0.000755</td>\n",
       "      <td>0.000752</td>\n",
       "      <td>0.000655</td>\n",
       "      <td>0.000291</td>\n",
       "      <td>0.000014</td>\n",
       "      <td>0.003040</td>\n",
       "    </tr>\n",
       "    <tr>\n",
       "      <th>TX_TIME_SECONDS</th>\n",
       "      <td>0.000638</td>\n",
       "      <td>0.000755</td>\n",
       "      <td>1.000000</td>\n",
       "      <td>0.999992</td>\n",
       "      <td>0.986055</td>\n",
       "      <td>0.025165</td>\n",
       "      <td>0.003969</td>\n",
       "      <td>0.009998</td>\n",
       "    </tr>\n",
       "    <tr>\n",
       "      <th>TX_TIME_DAYS</th>\n",
       "      <td>0.000635</td>\n",
       "      <td>0.000752</td>\n",
       "      <td>0.999992</td>\n",
       "      <td>1.000000</td>\n",
       "      <td>0.986063</td>\n",
       "      <td>0.025164</td>\n",
       "      <td>0.000736</td>\n",
       "      <td>0.010004</td>\n",
       "    </tr>\n",
       "    <tr>\n",
       "      <th>Month</th>\n",
       "      <td>0.000811</td>\n",
       "      <td>0.000655</td>\n",
       "      <td>0.986055</td>\n",
       "      <td>0.986063</td>\n",
       "      <td>1.000000</td>\n",
       "      <td>0.030235</td>\n",
       "      <td>0.000644</td>\n",
       "      <td>0.009247</td>\n",
       "    </tr>\n",
       "    <tr>\n",
       "      <th>DoW</th>\n",
       "      <td>0.000243</td>\n",
       "      <td>0.000291</td>\n",
       "      <td>0.025165</td>\n",
       "      <td>0.025164</td>\n",
       "      <td>0.030235</td>\n",
       "      <td>1.000000</td>\n",
       "      <td>0.000885</td>\n",
       "      <td>0.001578</td>\n",
       "    </tr>\n",
       "    <tr>\n",
       "      <th>AM_PM</th>\n",
       "      <td>0.001091</td>\n",
       "      <td>0.000014</td>\n",
       "      <td>0.003969</td>\n",
       "      <td>0.000736</td>\n",
       "      <td>0.000644</td>\n",
       "      <td>0.000885</td>\n",
       "      <td>1.000000</td>\n",
       "      <td>0.000361</td>\n",
       "    </tr>\n",
       "    <tr>\n",
       "      <th>TX_FRAUD</th>\n",
       "      <td>0.007142</td>\n",
       "      <td>0.003040</td>\n",
       "      <td>0.009998</td>\n",
       "      <td>0.010004</td>\n",
       "      <td>0.009247</td>\n",
       "      <td>0.001578</td>\n",
       "      <td>0.000361</td>\n",
       "      <td>1.000000</td>\n",
       "    </tr>\n",
       "  </tbody>\n",
       "</table>\n",
       "</div>"
      ],
      "text/plain": [
       "                 TERMINAL_ID  TX_AMOUNT  TX_TIME_SECONDS  TX_TIME_DAYS  \\\n",
       "TERMINAL_ID         1.000000   0.001447         0.000638      0.000635   \n",
       "TX_AMOUNT           0.001447   1.000000         0.000755      0.000752   \n",
       "TX_TIME_SECONDS     0.000638   0.000755         1.000000      0.999992   \n",
       "TX_TIME_DAYS        0.000635   0.000752         0.999992      1.000000   \n",
       "Month               0.000811   0.000655         0.986055      0.986063   \n",
       "DoW                 0.000243   0.000291         0.025165      0.025164   \n",
       "AM_PM               0.001091   0.000014         0.003969      0.000736   \n",
       "TX_FRAUD            0.007142   0.003040         0.009998      0.010004   \n",
       "\n",
       "                    Month       DoW     AM_PM  TX_FRAUD  \n",
       "TERMINAL_ID      0.000811  0.000243  0.001091  0.007142  \n",
       "TX_AMOUNT        0.000655  0.000291  0.000014  0.003040  \n",
       "TX_TIME_SECONDS  0.986055  0.025165  0.003969  0.009998  \n",
       "TX_TIME_DAYS     0.986063  0.025164  0.000736  0.010004  \n",
       "Month            1.000000  0.030235  0.000644  0.009247  \n",
       "DoW              0.030235  1.000000  0.000885  0.001578  \n",
       "AM_PM            0.000644  0.000885  1.000000  0.000361  \n",
       "TX_FRAUD         0.009247  0.001578  0.000361  1.000000  "
      ]
     },
     "execution_count": 18,
     "metadata": {},
     "output_type": "execute_result"
    }
   ],
   "source": [
    "#Eliminating Correlated Features\n",
    "DF.corr().abs()"
   ]
  },
  {
   "cell_type": "code",
   "execution_count": 19,
   "metadata": {},
   "outputs": [],
   "source": [
    "#Removing TX_TIME_SECONDS\t& TX_TIME_DAYS from DF because they are highly correlated\n",
    "DF = DF[['TERMINAL_ID','TX_AMOUNT','Month','DoW','AM_PM','TX_FRAUD']]"
   ]
  },
  {
   "cell_type": "code",
   "execution_count": 20,
   "metadata": {},
   "outputs": [
    {
     "data": {
      "text/html": [
       "<div>\n",
       "<style scoped>\n",
       "    .dataframe tbody tr th:only-of-type {\n",
       "        vertical-align: middle;\n",
       "    }\n",
       "\n",
       "    .dataframe tbody tr th {\n",
       "        vertical-align: top;\n",
       "    }\n",
       "\n",
       "    .dataframe thead th {\n",
       "        text-align: right;\n",
       "    }\n",
       "</style>\n",
       "<table border=\"1\" class=\"dataframe\">\n",
       "  <thead>\n",
       "    <tr style=\"text-align: right;\">\n",
       "      <th></th>\n",
       "      <th>TERMINAL_ID</th>\n",
       "      <th>TX_AMOUNT</th>\n",
       "      <th>Month</th>\n",
       "      <th>DoW</th>\n",
       "      <th>AM_PM</th>\n",
       "      <th>TX_FRAUD</th>\n",
       "    </tr>\n",
       "  </thead>\n",
       "  <tbody>\n",
       "    <tr>\n",
       "      <th>0</th>\n",
       "      <td>3156</td>\n",
       "      <td>533.07</td>\n",
       "      <td>1</td>\n",
       "      <td>7</td>\n",
       "      <td>0</td>\n",
       "      <td>0</td>\n",
       "    </tr>\n",
       "    <tr>\n",
       "      <th>1</th>\n",
       "      <td>8737</td>\n",
       "      <td>620.65</td>\n",
       "      <td>1</td>\n",
       "      <td>7</td>\n",
       "      <td>0</td>\n",
       "      <td>0</td>\n",
       "    </tr>\n",
       "    <tr>\n",
       "      <th>2</th>\n",
       "      <td>9906</td>\n",
       "      <td>490.66</td>\n",
       "      <td>1</td>\n",
       "      <td>7</td>\n",
       "      <td>0</td>\n",
       "      <td>0</td>\n",
       "    </tr>\n",
       "    <tr>\n",
       "      <th>3</th>\n",
       "      <td>8803</td>\n",
       "      <td>401.17</td>\n",
       "      <td>1</td>\n",
       "      <td>7</td>\n",
       "      <td>0</td>\n",
       "      <td>0</td>\n",
       "    </tr>\n",
       "    <tr>\n",
       "      <th>4</th>\n",
       "      <td>2486</td>\n",
       "      <td>206.53</td>\n",
       "      <td>1</td>\n",
       "      <td>7</td>\n",
       "      <td>0</td>\n",
       "      <td>0</td>\n",
       "    </tr>\n",
       "  </tbody>\n",
       "</table>\n",
       "</div>"
      ],
      "text/plain": [
       "   TERMINAL_ID  TX_AMOUNT  Month  DoW  AM_PM  TX_FRAUD\n",
       "0         3156     533.07      1    7      0         0\n",
       "1         8737     620.65      1    7      0         0\n",
       "2         9906     490.66      1    7      0         0\n",
       "3         8803     401.17      1    7      0         0\n",
       "4         2486     206.53      1    7      0         0"
      ]
     },
     "execution_count": 20,
     "metadata": {},
     "output_type": "execute_result"
    }
   ],
   "source": [
    "DF.head()"
   ]
  },
  {
   "cell_type": "code",
   "execution_count": 21,
   "metadata": {},
   "outputs": [],
   "source": [
    "X = DF.iloc[:,0:-1]\n",
    "y = DF.iloc[:,-1:]"
   ]
  },
  {
   "cell_type": "code",
   "execution_count": 22,
   "metadata": {},
   "outputs": [
    {
     "name": "stdout",
     "output_type": "stream",
     "text": [
      "(1315616, 5)\n"
     ]
    }
   ],
   "source": [
    "print(X.shape)"
   ]
  },
  {
   "cell_type": "code",
   "execution_count": 23,
   "metadata": {},
   "outputs": [
    {
     "data": {
      "text/plain": [
       "Index(['TERMINAL_ID', 'TX_AMOUNT', 'Month', 'DoW'], dtype='object')"
      ]
     },
     "execution_count": 23,
     "metadata": {},
     "output_type": "execute_result"
    }
   ],
   "source": [
    "# Select K-best \n",
    "X_new = SelectKBest(chi2,k=4)\n",
    "X_new.fit(X,y)\n",
    "X_new.transform(X).shape\n",
    "X.columns[X_new.get_support()]"
   ]
  },
  {
   "cell_type": "code",
   "execution_count": 24,
   "metadata": {},
   "outputs": [
    {
     "data": {
      "text/plain": [
       "(1315616, 5)"
      ]
     },
     "execution_count": 24,
     "metadata": {},
     "output_type": "execute_result"
    }
   ],
   "source": [
    "# Set new DF with our Best selected featues from the step above \n",
    "DF = DF[['TERMINAL_ID', 'TX_AMOUNT', 'Month', 'DoW','TX_FRAUD']]\n",
    "DF.shape"
   ]
  },
  {
   "attachments": {},
   "cell_type": "markdown",
   "metadata": {},
   "source": [
    "# Modeling"
   ]
  },
  {
   "cell_type": "code",
   "execution_count": 25,
   "metadata": {},
   "outputs": [],
   "source": [
    "#Define our variables of input(X) and the variable we intend to predict(Y)\n",
    "X = DF.iloc[:,0:4]\n",
    "y = DF.iloc[:,-1]"
   ]
  },
  {
   "cell_type": "code",
   "execution_count": 26,
   "metadata": {},
   "outputs": [],
   "source": [
    "X_train, X_test, y_train, y_test = train_test_split(X, y, test_size=0.25, random_state=32)"
   ]
  },
  {
   "cell_type": "code",
   "execution_count": 27,
   "metadata": {},
   "outputs": [],
   "source": [
    "#Normalizing features with Standard Scaler\n",
    "scaler = StandardScaler()\n",
    "x_train = scaler.fit_transform(X_train)\n",
    "x_test = scaler.transform(X_test)"
   ]
  },
  {
   "cell_type": "code",
   "execution_count": 28,
   "metadata": {},
   "outputs": [
    {
     "name": "stdout",
     "output_type": "stream",
     "text": [
      "X shape:(1315616, 4), y shape:(1315616,)\n",
      "X_train shape:(986712, 4), y_train shape:(986712,)\n",
      "X_test shape:(328904, 4), y_test shape:(328904,)\n"
     ]
    }
   ],
   "source": [
    "print('X shape:{0}, y shape:{1}'.format(X.shape, y.shape))\n",
    "print('X_train shape:{0}, y_train shape:{1}'.format(X_train.shape,y_train.shape))\n",
    "print('X_test shape:{0}, y_test shape:{1}'.format(X_test.shape, y_test.shape))"
   ]
  },
  {
   "attachments": {},
   "cell_type": "markdown",
   "metadata": {},
   "source": [
    "### Neural Network"
   ]
  },
  {
   "cell_type": "code",
   "execution_count": 29,
   "metadata": {},
   "outputs": [
    {
     "name": "stdout",
     "output_type": "stream",
     "text": [
      "Model: \"model\"\n",
      "_________________________________________________________________\n",
      " Layer (type)                Output Shape              Param #   \n",
      "=================================================================\n",
      " input_layer (InputLayer)    [(None, 4)]               0         \n",
      "                                                                 \n",
      " l_1 (Dense)                 (None, 3)                 15        \n",
      "                                                                 \n",
      " batch_normalization (BatchN  (None, 3)                12        \n",
      " ormalization)                                                   \n",
      "                                                                 \n",
      " dropout (Dropout)           (None, 3)                 0         \n",
      "                                                                 \n",
      " output_layer (Dense)        (None, 1)                 4         \n",
      "                                                                 \n",
      "=================================================================\n",
      "Total params: 31\n",
      "Trainable params: 25\n",
      "Non-trainable params: 6\n",
      "_________________________________________________________________\n"
     ]
    },
    {
     "name": "stderr",
     "output_type": "stream",
     "text": [
      "2023-05-25 17:32:22.366756: I tensorflow/core/platform/cpu_feature_guard.cc:193] This TensorFlow binary is optimized with oneAPI Deep Neural Network Library (oneDNN) to use the following CPU instructions in performance-critical operations:  AVX2 FMA\n",
      "To enable them in other operations, rebuild TensorFlow with the appropriate compiler flags.\n"
     ]
    }
   ],
   "source": [
    "# Step one : Model Architecture\n",
    "inputs = keras.Input(shape=(4, ), name='input_layer')\n",
    "\n",
    "## First hidden layer\n",
    "l_1 = layers.Dense(3, activation='relu',name='l_1')(inputs)\n",
    "l_1 = layers.BatchNormalization()(l_1)\n",
    "l_1 = layers.Dropout(0.4)(l_1)\n",
    "\n",
    "## output layer\n",
    "outputs = layers.Dense(1, activation='sigmoid',name='output_layer')(l_1)\n",
    "                       \n",
    "model = keras.Model(inputs=inputs, outputs=outputs)\n",
    "model.summary()"
   ]
  },
  {
   "cell_type": "code",
   "execution_count": 30,
   "metadata": {},
   "outputs": [],
   "source": [
    "# Step 3: Model Compilation\n",
    "model.compile(optimizer='adam',loss='binary_crossentropy',metrics=['accuracy'])"
   ]
  },
  {
   "cell_type": "code",
   "execution_count": 31,
   "metadata": {},
   "outputs": [
    {
     "name": "stdout",
     "output_type": "stream",
     "text": [
      "Epoch 1/3\n",
      "13157/13157 [==============================] - 13s 946us/step - loss: 0.0690 - accuracy: 0.9928 - val_loss: 0.0328 - val_accuracy: 0.9948\n",
      "Epoch 2/3\n",
      "13157/13157 [==============================] - 12s 921us/step - loss: 0.0341 - accuracy: 0.9946 - val_loss: 0.0328 - val_accuracy: 0.9948\n",
      "Epoch 3/3\n",
      "13157/13157 [==============================] - 12s 907us/step - loss: 0.0338 - accuracy: 0.9946 - val_loss: 0.0328 - val_accuracy: 0.9948\n"
     ]
    },
    {
     "data": {
      "text/plain": [
       "<keras.callbacks.History at 0x7f91ecfe2700>"
      ]
     },
     "execution_count": 31,
     "metadata": {},
     "output_type": "execute_result"
    }
   ],
   "source": [
    "# Load the TensorBoard notebook extension\n",
    "%load_ext tensorboard\n",
    "\n",
    "# Step 4: Model Training\n",
    "tensorboard_callback = tf.keras.callbacks.TensorBoard(log_dir=\"./logs\")\n",
    "model.fit(X_train, y_train, epochs=3, batch_size=60, validation_split=0.2,callbacks=[tensorboard_callback])"
   ]
  },
  {
   "attachments": {},
   "cell_type": "markdown",
   "metadata": {},
   "source": [
    "\n",
    "Based on the output of your model, it appears that your model is not overfitting. The training loss and validation loss are both decreasing, which means that the model is learning the patterns in the data and is able to generalize to new data.\n",
    "\n",
    "The model is also not too simple, as it has 13157 parameters. This is a large enough number of parameters to learn the patterns in the data.\n",
    "\n",
    "The model is being trained for 50 epochs, which is a long enough time to learn the patterns in the data.\n",
    "\n",
    "The model is using the Adam optimizer, which is a good optimizer for deep learning models.\n",
    "\n",
    "Therefore, it is likely that the reason why your val_loss is not changing is because your model has reached a plateau. This means that the model has learned as much as it can from the training data, and is not able to improve its performance any further.\n",
    "\n",
    "There are a few things you can do to try to improve the performance of your model:\n",
    "\n",
    "Increase the size of your training dataset. This will give the model more data to learn from, and may help it to improve its performance.\n",
    "Use a different optimizer. Some optimizers, like SGD with momentum, may be able to help the model to escape from a plateau.\n",
    "Add more layers to your model. This will make your model more complex, and may help it to learn the patterns in the data better.\n",
    "Use a regularization technique. Regularization techniques, like L1 or L2 regularization, can help to prevent overfitting, which may improve the performance of your model.\n",
    "If you have tried all of these things and your model is still not performing well, then you may need to consult with a machine learning expert. They can help you to diagnose the problem and find a solution."
   ]
  },
  {
   "attachments": {},
   "cell_type": "markdown",
   "metadata": {},
   "source": [
    "### Model Evaluation"
   ]
  },
  {
   "cell_type": "code",
   "execution_count": 32,
   "metadata": {},
   "outputs": [
    {
     "name": "stdout",
     "output_type": "stream",
     "text": [
      "Test loss: 0.03242306038737297\n",
      "Test accuracy: 0.994819164276123\n"
     ]
    }
   ],
   "source": [
    "# Step 5: Model Evaluation\n",
    "scores = model.evaluate(X_test, y_test, verbose=0)\n",
    "print(\"Test loss:\", scores[0])\n",
    "print(\"Test accuracy:\", scores[1])\n"
   ]
  },
  {
   "cell_type": "code",
   "execution_count": 35,
   "metadata": {},
   "outputs": [
    {
     "name": "stdout",
     "output_type": "stream",
     "text": [
      "10279/10279 [==============================] - 6s 570us/step\n",
      "Precision: tf.Tensor(1.0, shape=(), dtype=float32)\n",
      "Recall: tf.Tensor(0.005180843, shape=(), dtype=float32)\n"
     ]
    }
   ],
   "source": [
    "# Create an instance of the Precision metric.\n",
    "precision = tf.keras.metrics.Precision()\n",
    "\n",
    "# Create an instance of the Recall metric.\n",
    "recall = tf.keras.metrics.Recall()\n",
    "\n",
    "# Get the predictions and labels from the model.\n",
    "predictions = model.predict(X_test)\n",
    "labels = y_test\n",
    "\n",
    "# Update the state of the metrics.\n",
    "precision.update_state(predictions, labels)\n",
    "recall.update_state(predictions, labels)\n",
    "\n",
    "# Get the precision and recall.\n",
    "precision_score = precision.result()\n",
    "recall_score = recall.result()\n",
    "\n",
    "print(\"Precision:\", precision_score)\n",
    "print(\"Recall:\", recall_score)"
   ]
  },
  {
   "attachments": {},
   "cell_type": "markdown",
   "metadata": {},
   "source": [
    "\n",
    "The precision of 1.0 means that all of the positive predictions made by the model were correct. The recall of 0.005180843 means that only 0.5180843% of the positive instances were correctly identified by the model.\n",
    "\n",
    "The high precision and low recall indicate that the model is good at identifying positive instances, but it is not very good at identifying negative instances. This could be due to a number of factors, such as a class imbalance in the data or a lack of training data.\n",
    "\n",
    "To improve the recall of the model, you can try the following:\n",
    "\n",
    "Use a balanced dataset. If the data is imbalanced, the model will be biased towards the majority class. To address this, you can use a variety of techniques, such as oversampling or undersampling the minority class.\n",
    "Use more training data. The more data the model has to learn from, the better it will be at identifying both positive and negative instances.\n",
    "Use a different model architecture. Some model architectures are better suited for certain tasks than others. If the model you are using is not working well, you can try a different architecture.\n",
    "By following these tips, you can increase the chances of improving the recall of your model."
   ]
  }
 ],
 "metadata": {
  "kernelspec": {
   "display_name": "Python 3 (ipykernel)",
   "language": "python",
   "name": "python3"
  },
  "language_info": {
   "codemirror_mode": {
    "name": "ipython",
    "version": 3
   },
   "file_extension": ".py",
   "mimetype": "text/x-python",
   "name": "python",
   "nbconvert_exporter": "python",
   "pygments_lexer": "ipython3",
   "version": "3.8.3"
  },
  "vscode": {
   "interpreter": {
    "hash": "aee8b7b246df8f9039afb4144a1f6fd8d2ca17a180786b69acc140d282b71a49"
   }
  }
 },
 "nbformat": 4,
 "nbformat_minor": 2
}
